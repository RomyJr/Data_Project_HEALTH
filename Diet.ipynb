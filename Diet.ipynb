{
 "cells": [
  {
   "cell_type": "code",
   "execution_count": 31,
   "metadata": {},
   "outputs": [],
   "source": [
    "import pandas as pd\n",
    "import random\n",
    "from sqlalchemy import create_engine\n",
    "import numpy as np"
   ]
  },
  {
   "cell_type": "markdown",
   "metadata": {},
   "source": [
    "1. On charge harge les fichiers sources"
   ]
  },
  {
   "cell_type": "code",
   "execution_count": 32,
   "metadata": {},
   "outputs": [],
   "source": [
    "# Charger les fichiers sources\n",
    "file1 = 'data\\\\ObesityDataSet_raw_and_data_sinthetic.csv'\n",
    "file2 = 'data\\\\lifestyle_sustainability_data.csv'\n",
    "file3 = 'data\\\\DietSurvey_toJson.json'\n",
    "\n",
    "# Charger les fichiers dans des DataFrames\n",
    "df1 = pd.read_csv(file1)\n",
    "df2 = pd.read_csv(file2)\n",
    "df3 = pd.read_json(file3)"
   ]
  },
  {
   "cell_type": "markdown",
   "metadata": {},
   "source": [
    "2. On code les fonctions dont on aura besoin par la suite"
   ]
  },
  {
   "cell_type": "code",
   "execution_count": 33,
   "metadata": {},
   "outputs": [],
   "source": [
    "def assign_diet_type(fcvc):\n",
    "    if fcvc >= 2.6:\n",
    "        # Si FCVC >= 2.6, attribuer \"Vegetarian\" ou \"Vegan\" avec probabilité pour \"Vegan\" plus faible\n",
    "        return np.random.choice(['Vegetarian', 'Vegan'], p=[0.8, 0.2])\n",
    "    elif fcvc >= 2:\n",
    "        # Si FCVC >= 2 et < 2.6, attribuer \"Mostly Plant-Based\"\n",
    "        return 'Mostly Plant-Based'\n",
    "    elif fcvc <= 1:\n",
    "        # Si FCVC <= 1, attribuer \"Mostly Animal-Based\"\n",
    "        return 'Mostly Animal-Based'\n",
    "    else:\n",
    "        # Sinon, attribuer \"Balanced\"\n",
    "        return 'Balanced'"
   ]
  },
  {
   "cell_type": "code",
   "execution_count": 34,
   "metadata": {},
   "outputs": [],
   "source": [
    "# Traitement pour le fichier 1 (ObesityDataSet_raw_and_data_sinthetic.csv)\n",
    "df1['diet_type'] = df1['FCVC'].apply(assign_diet_type)\n",
    "\n",
    "# Traitement pour le fichier 2 (lifestyle_sustainability_data.csv)\n",
    "# Ici, diet_type est simplement la colonne 'DietType'\n",
    "df2['diet_type'] = df2['DietType']\n",
    "\n",
    "# Traitement pour le fichier 3 (DietSurvey_toJson.json)\n",
    "# Extraire la réponse avant les parenthèses dans la question \"What would best describe your diet:\"\n",
    "# Si la réponse contient une parenthèse, on prend la partie avant la parenthèse ; sinon, on garde la réponse telle quelle\n",
    "df3['diet_type'] = df3['What would best describe your diet:'].apply(lambda x: x.split('(')[0].strip() if '(' in x else x.strip())\n"
   ]
  },
  {
   "cell_type": "markdown",
   "metadata": {},
   "source": [
    "3. On regarde les différentes valeurs obtenues"
   ]
  },
  {
   "cell_type": "code",
   "execution_count": 35,
   "metadata": {},
   "outputs": [
    {
     "name": "stdout",
     "output_type": "stream",
     "text": [
      "Valeurs uniques combinées pour diet_type : {'Non-Vegetarian', 'Pollotarian', 'Balanced', 'Vegan', 'Mostly Animal-Based', 'Pollo-pescetarian', 'Mostly Plant-Based', 'Pescatarian', 'Vegetarian', 'Eggetarian'}\n"
     ]
    }
   ],
   "source": [
    "# Afficher les différentes valeurs uniques possibles pour file2 et file3\n",
    "file1_unique_values = df1['diet_type'].unique()\n",
    "file2_unique_values = df3['diet_type'].unique()\n",
    "file3_unique_values = df3['diet_type'].unique()\n",
    "\n",
    "# Combiner toutes les valeurs uniques dans un seul ensemble pour éviter les doublons\n",
    "unique_diet_values = set(file1_unique_values).union(file2_unique_values).union(file3_unique_values)\n",
    "\n",
    "# Afficher les valeurs uniques combinées\n",
    "print(\"Valeurs uniques combinées pour diet_type :\", unique_diet_values)"
   ]
  },
  {
   "cell_type": "markdown",
   "metadata": {},
   "source": [
    "4. On fabrique le Dataframe correspondant"
   ]
  },
  {
   "cell_type": "code",
   "execution_count": 36,
   "metadata": {},
   "outputs": [
    {
     "name": "stdout",
     "output_type": "stream",
     "text": [
      "\n",
      "DataFrame des régimes alimentaires :\n",
      "   id_diet            diet_type\n",
      "0        1       Non-Vegetarian\n",
      "1        2          Pollotarian\n",
      "2        3             Balanced\n",
      "3        4                Vegan\n",
      "4        5  Mostly Animal-Based\n",
      "5        6    Pollo-pescetarian\n",
      "6        7   Mostly Plant-Based\n",
      "7        8          Pescatarian\n",
      "8        9           Vegetarian\n",
      "9       10           Eggetarian\n"
     ]
    }
   ],
   "source": [
    "# Créer un DataFrame avec les valeurs uniques et un ID pour chaque régime\n",
    "df_diet = pd.DataFrame(unique_diet_values, columns=['diet_type'])\n",
    "df_diet['id_diet'] = df_diet.index + 1  # Assigner un id_diet unique à chaque régime\n",
    "\n",
    "# Réorganiser les colonnes pour que 'id_diet' soit la première colonne\n",
    "df_diet = df_diet[['id_diet', 'diet_type']]\n",
    "\n",
    "# Afficher le DataFrame créé\n",
    "print(\"\\nDataFrame des régimes alimentaires :\")\n",
    "print(df_diet)\n"
   ]
  },
  {
   "cell_type": "code",
   "execution_count": 1,
   "metadata": {},
   "outputs": [],
   "source": [
    "from db_utils import get_db_engine\n",
    "\n",
    "# Obtenir le moteur de base de données\n",
    "engine = get_db_engine()"
   ]
  },
  {
   "cell_type": "code",
   "execution_count": 39,
   "metadata": {},
   "outputs": [
    {
     "name": "stdout",
     "output_type": "stream",
     "text": [
      "Les données ont été insérées avec succès dans la table 'Diet'.\n"
     ]
    },
    {
     "name": "stderr",
     "output_type": "stream",
     "text": [
      "C:\\Users\\user\\AppData\\Local\\Temp\\ipykernel_21168\\2127336705.py:1: UserWarning: The provided table name 'Diet' is not found exactly as such in the database after writing the table, possibly due to case sensitivity issues. Consider using lower case table names.\n",
      "  df_diet.to_sql('Diet', engine, if_exists='append', index=False)\n"
     ]
    }
   ],
   "source": [
    "df_diet.to_sql('Diet', engine, if_exists='append', index=False)\n",
    "\n",
    "print(\"Les données ont été insérées avec succès dans la table 'Diet'.\")\n"
   ]
  }
 ],
 "metadata": {
  "kernelspec": {
   "display_name": "Python 3",
   "language": "python",
   "name": "python3"
  },
  "language_info": {
   "codemirror_mode": {
    "name": "ipython",
    "version": 3
   },
   "file_extension": ".py",
   "mimetype": "text/x-python",
   "name": "python",
   "nbconvert_exporter": "python",
   "pygments_lexer": "ipython3",
   "version": "3.11.3"
  }
 },
 "nbformat": 4,
 "nbformat_minor": 2
}
