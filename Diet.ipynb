{
 "cells": [
  {
   "cell_type": "code",
   "execution_count": 1,
   "metadata": {},
   "outputs": [],
   "source": [
    "import pandas as pd\n",
    "import random\n",
    "from sqlalchemy import create_engine\n",
    "import numpy as np"
   ]
  },
  {
   "cell_type": "markdown",
   "metadata": {},
   "source": [
    "1. On charge harge les fichiers sources"
   ]
  },
  {
   "cell_type": "code",
   "execution_count": 2,
   "metadata": {},
   "outputs": [],
   "source": [
    "# Charger les fichiers sources\n",
    "file1 = 'data\\\\ObesityDataSet_raw_and_data_sinthetic.csv'\n",
    "file2 = 'data\\\\lifestyle_sustainability_data.csv'\n",
    "file3 = 'data\\\\Sleep_health_and_lifestyle_dataset.csv'\n",
    "file4 = 'data\\\\DietSurvey_toJson.json'\n",
    "\n",
    "# Charger les fichiers dans des DataFrames\n",
    "df1 = pd.read_csv(file1)\n",
    "df2 = pd.read_csv(file2)\n",
    "df3 = pd.read_csv(file3)\n",
    "df4 = pd.read_json(file4)\n",
    "\n",
    "# Ajouter des IDs uniques pour chaque fichier\n",
    "df1['id_person'] = range(1, len(df1) + 1)\n",
    "df2['id_person'] = range(len(df1) + 1, len(df1) + len(df2) + 1)\n",
    "df3['id_person'] = range(len(df1) + len(df2) + 1, len(df1) + len(df2) + len(df3) + 1)\n",
    "df4['id_person'] = range(len(df1) + len(df2) + len(df3) + 1, len(df1) + len(df2) + len(df3) + len(df4) + 1)\n"
   ]
  },
  {
   "cell_type": "markdown",
   "metadata": {},
   "source": [
    "2. On code les fonctions dont on aura besoin par la suite"
   ]
  },
  {
   "cell_type": "code",
   "execution_count": 3,
   "metadata": {},
   "outputs": [],
   "source": [
    "def assign_diet_type(fcvc):\n",
    "    if fcvc >= 2.6:\n",
    "        # Si FCVC >= 2.6, attribuer \"Vegetarian\" ou \"Vegan\" avec probabilité pour \"Vegan\" plus faible\n",
    "        return np.random.choice(['Vegetarian', 'Vegan'], p=[0.8, 0.2])\n",
    "    elif fcvc >= 2:\n",
    "        # Si FCVC >= 2 et < 2.6, attribuer \"Mostly Plant-Based\"\n",
    "        return 'Mostly Plant-Based'\n",
    "    elif fcvc <= 1:\n",
    "        # Si FCVC <= 1, attribuer \"Mostly Animal-Based\"\n",
    "        return 'Mostly Animal-Based'\n",
    "    else:\n",
    "        # Sinon, attribuer \"Balanced\"\n",
    "        return 'Balanced'"
   ]
  },
  {
   "cell_type": "code",
   "execution_count": 4,
   "metadata": {},
   "outputs": [],
   "source": [
    "# Traitement pour le fichier 1 (ObesityDataSet_raw_and_data_sinthetic.csv)\n",
    "df1['diet_type'] = df1['FCVC'].apply(assign_diet_type)\n",
    "\n",
    "# Traitement pour le fichier 2 (lifestyle_sustainability_data.csv)\n",
    "# Ici, diet_type est simplement la colonne 'DietType'\n",
    "df2['diet_type'] = df2['DietType']\n",
    "\n",
    "# Traitement pour le fichier 3 (DietSurvey_toJson.json)\n",
    "# Extraire la réponse avant les parenthèses dans la question \"What would best describe your diet:\"\n",
    "# Si la réponse contient une parenthèse, on prend la partie avant la parenthèse ; sinon, on garde la réponse telle quelle\n",
    "df4['diet_type'] = df4['What would best describe your diet:'].apply(lambda x: x.split('(')[0].strip() if '(' in x else x.strip())\n"
   ]
  },
  {
   "cell_type": "markdown",
   "metadata": {},
   "source": [
    "3. On regarde les différentes valeurs obtenues"
   ]
  },
  {
   "cell_type": "code",
   "execution_count": 5,
   "metadata": {},
   "outputs": [
    {
     "name": "stdout",
     "output_type": "stream",
     "text": [
      "Valeurs uniques combinées pour diet_type : {'Pollotarian', 'Mostly Plant-Based', 'Pollo-pescetarian', 'Vegan', 'Vegetarian', 'Pescatarian', 'Non-Vegetarian', 'Mostly Animal-Based', 'Balanced', 'Eggetarian'}\n"
     ]
    }
   ],
   "source": [
    "# Afficher les différentes valeurs uniques possibles pour file2 et file3\n",
    "file1_unique_values = df1['diet_type'].unique()\n",
    "file2_unique_values = df2['diet_type'].unique()\n",
    "file4_unique_values = df4['diet_type'].unique()\n",
    "\n",
    "# Combiner toutes les valeurs uniques dans un seul ensemble pour éviter les doublons\n",
    "unique_diet_values = set(file1_unique_values).union(file2_unique_values).union(file4_unique_values)\n",
    "\n",
    "# Afficher les valeurs uniques combinées\n",
    "print(\"Valeurs uniques combinées pour diet_type :\", unique_diet_values)"
   ]
  },
  {
   "cell_type": "markdown",
   "metadata": {},
   "source": [
    "4. On fabrique le Dataframe correspondant"
   ]
  },
  {
   "cell_type": "code",
   "execution_count": 6,
   "metadata": {},
   "outputs": [
    {
     "name": "stdout",
     "output_type": "stream",
     "text": [
      "\n",
      "DataFrame des régimes alimentaires :\n",
      "   id_diet            diet_type\n",
      "0        1          Pollotarian\n",
      "1        2   Mostly Plant-Based\n",
      "2        3    Pollo-pescetarian\n",
      "3        4                Vegan\n",
      "4        5           Vegetarian\n",
      "5        6          Pescatarian\n",
      "6        7       Non-Vegetarian\n",
      "7        8  Mostly Animal-Based\n",
      "8        9             Balanced\n",
      "9       10           Eggetarian\n"
     ]
    }
   ],
   "source": [
    "# Créer un DataFrame avec les valeurs uniques et un ID pour chaque régime\n",
    "df_diet = pd.DataFrame(unique_diet_values, columns=['diet_type'])\n",
    "df_diet['id_diet'] = df_diet.index + 1  # Assigner un id_diet unique à chaque régime\n",
    "\n",
    "# Réorganiser les colonnes pour que 'id_diet' soit la première colonne\n",
    "df_diet = df_diet[['id_diet', 'diet_type']]\n",
    "\n",
    "# Afficher le DataFrame créé\n",
    "print(\"\\nDataFrame des régimes alimentaires :\")\n",
    "print(df_diet)\n"
   ]
  },
  {
   "cell_type": "markdown",
   "metadata": {},
   "source": [
    "from db_utils import get_db_engine\n",
    "\n",
    "# Obtenir le moteur de base de données\n",
    "engine = get_db_engine()"
   ]
  },
  {
   "cell_type": "markdown",
   "metadata": {},
   "source": [
    "df_diet.to_sql('Diet', engine, if_exists='append', index=False)\n",
    "\n",
    "print(\"Les données ont été insérées avec succès dans la table 'Diet'.\")\n"
   ]
  },
  {
   "cell_type": "code",
   "execution_count": 7,
   "metadata": {},
   "outputs": [
    {
     "name": "stdout",
     "output_type": "stream",
     "text": [
      "\n",
      "DataFrame des IDs de personnes et des régimes alimentaires :\n"
     ]
    },
    {
     "data": {
      "text/html": [
       "<div>\n",
       "<style scoped>\n",
       "    .dataframe tbody tr th:only-of-type {\n",
       "        vertical-align: middle;\n",
       "    }\n",
       "\n",
       "    .dataframe tbody tr th {\n",
       "        vertical-align: top;\n",
       "    }\n",
       "\n",
       "    .dataframe thead th {\n",
       "        text-align: right;\n",
       "    }\n",
       "</style>\n",
       "<table border=\"1\" class=\"dataframe\">\n",
       "  <thead>\n",
       "    <tr style=\"text-align: right;\">\n",
       "      <th></th>\n",
       "      <th>id_person</th>\n",
       "      <th>id_diet</th>\n",
       "    </tr>\n",
       "  </thead>\n",
       "  <tbody>\n",
       "    <tr>\n",
       "      <th>0</th>\n",
       "      <td>1</td>\n",
       "      <td>2</td>\n",
       "    </tr>\n",
       "    <tr>\n",
       "      <th>1</th>\n",
       "      <td>2</td>\n",
       "      <td>5</td>\n",
       "    </tr>\n",
       "    <tr>\n",
       "      <th>2</th>\n",
       "      <td>3</td>\n",
       "      <td>2</td>\n",
       "    </tr>\n",
       "    <tr>\n",
       "      <th>3</th>\n",
       "      <td>4</td>\n",
       "      <td>5</td>\n",
       "    </tr>\n",
       "    <tr>\n",
       "      <th>4</th>\n",
       "      <td>5</td>\n",
       "      <td>2</td>\n",
       "    </tr>\n",
       "    <tr>\n",
       "      <th>...</th>\n",
       "      <td>...</td>\n",
       "      <td>...</td>\n",
       "    </tr>\n",
       "    <tr>\n",
       "      <th>3057</th>\n",
       "      <td>3058</td>\n",
       "      <td>1</td>\n",
       "    </tr>\n",
       "    <tr>\n",
       "      <th>3058</th>\n",
       "      <td>3059</td>\n",
       "      <td>7</td>\n",
       "    </tr>\n",
       "    <tr>\n",
       "      <th>3059</th>\n",
       "      <td>3060</td>\n",
       "      <td>7</td>\n",
       "    </tr>\n",
       "    <tr>\n",
       "      <th>3060</th>\n",
       "      <td>3061</td>\n",
       "      <td>1</td>\n",
       "    </tr>\n",
       "    <tr>\n",
       "      <th>3061</th>\n",
       "      <td>3062</td>\n",
       "      <td>7</td>\n",
       "    </tr>\n",
       "  </tbody>\n",
       "</table>\n",
       "<p>3062 rows × 2 columns</p>\n",
       "</div>"
      ],
      "text/plain": [
       "      id_person  id_diet\n",
       "0             1        2\n",
       "1             2        5\n",
       "2             3        2\n",
       "3             4        5\n",
       "4             5        2\n",
       "...         ...      ...\n",
       "3057       3058        1\n",
       "3058       3059        7\n",
       "3059       3060        7\n",
       "3060       3061        1\n",
       "3061       3062        7\n",
       "\n",
       "[3062 rows x 2 columns]"
      ]
     },
     "execution_count": 7,
     "metadata": {},
     "output_type": "execute_result"
    }
   ],
   "source": [
    "# Pour associer les diet_types aux id_diet dans chaque DataFrame\n",
    "# On utilise pd.merge() pour lier les ID du régime alimentaire en fonction des diet_types\n",
    "\n",
    "# Associer l'id_diet pour df1\n",
    "df1 = pd.merge(df1, df_diet, how='left', left_on='diet_type', right_on='diet_type')\n",
    "\n",
    "# Associer l'id_diet pour df2\n",
    "df2 = pd.merge(df2, df_diet, how='left', left_on='diet_type', right_on='diet_type')\n",
    "\n",
    "# Associer l'id_diet pour df4\n",
    "df4 = pd.merge(df4, df_diet, how='left', left_on='diet_type', right_on='diet_type')\n",
    "\n",
    "# Pour df3, comme il n'y a pas de 'diet_type', on attribue l'ID 11\n",
    "df3['id_diet'] = 11\n",
    "\n",
    "# Créer un DataFrame final avec les id_person et id_diet\n",
    "id_and_diet = pd.concat([df1[['id_person', 'id_diet']],\n",
    "                         df2[['id_person', 'id_diet']],\n",
    "                         df3[['id_person', 'id_diet']],\n",
    "                         df4[['id_person', 'id_diet']]])\n",
    "\n",
    "# Réinitialiser l'index\n",
    "id_and_diet.reset_index(drop=True, inplace=True)\n",
    "\n",
    "# Afficher le DataFrame final\n",
    "print(\"\\nDataFrame des IDs de personnes et des régimes alimentaires :\")\n",
    "id_and_diet\n"
   ]
  }
 ],
 "metadata": {
  "kernelspec": {
   "display_name": "Python 3",
   "language": "python",
   "name": "python3"
  },
  "language_info": {
   "codemirror_mode": {
    "name": "ipython",
    "version": 3
   },
   "file_extension": ".py",
   "mimetype": "text/x-python",
   "name": "python",
   "nbconvert_exporter": "python",
   "pygments_lexer": "ipython3",
   "version": "3.11.3"
  }
 },
 "nbformat": 4,
 "nbformat_minor": 2
}
