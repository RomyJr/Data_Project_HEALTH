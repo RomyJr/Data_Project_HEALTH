{
 "cells": [
  {
   "cell_type": "code",
   "execution_count": 3,
   "metadata": {},
   "outputs": [],
   "source": [
    "import pandas as pd\n",
    "import random\n",
    "from sqlalchemy import create_engine\n",
    "import numpy as np"
   ]
  },
  {
   "cell_type": "code",
   "execution_count": 4,
   "metadata": {},
   "outputs": [],
   "source": [
    "from db_utils import get_db_engine\n",
    "# Obtenir le moteur de base de données\n",
    "engine = get_db_engine()"
   ]
  },
  {
   "cell_type": "code",
   "execution_count": 5,
   "metadata": {},
   "outputs": [],
   "source": [
    "# Charger les fichiers sources\n",
    "file1 = 'data\\\\ObesityDataSet_raw_and_data_sinthetic.csv'\n",
    "file2 = 'data\\\\lifestyle_sustainability_data.csv'\n",
    "\n",
    "# Charger les fichiers dans des DataFrames\n",
    "df1 = pd.read_csv(file1)\n",
    "df2 = pd.read_csv(file2)"
   ]
  },
  {
   "cell_type": "code",
   "execution_count": 9,
   "metadata": {},
   "outputs": [
    {
     "data": {
      "text/plain": [
       "(['Automobile', 'Bike', 'Motorbike', 'Public_Transportation', 'Walking'],\n",
       " ['Bike', 'Car', 'Public Transit', 'Walk'])"
      ]
     },
     "execution_count": 9,
     "metadata": {},
     "output_type": "execute_result"
    }
   ],
   "source": [
    "# Charger les fichiers sources\n",
    "file1 = 'data\\\\ObesityDataSet_raw_and_data_sinthetic.csv'\n",
    "file2 = 'data\\\\lifestyle_sustainability_data.csv'\n",
    "\n",
    "# Charger les fichiers dans des DataFrames\n",
    "df1 = pd.read_csv(file1)\n",
    "df2 = pd.read_csv(file2)\n",
    "\n",
    "# Fonction pour trier les valeurs numériques si possible\n",
    "def sort_values(values):\n",
    "    # Essayer de convertir en float et trier si possible\n",
    "    try:\n",
    "        # Convertir les valeurs en flottants, ignorer les erreurs\n",
    "        values_float = [float(v) if isinstance(v, (int, float, str)) and str(v).replace('.', '', 1).isdigit() else v for v in values]\n",
    "        return sorted(values_float, key=lambda x: (isinstance(x, str), x))  # Trier numériquement et puis par texte\n",
    "    except Exception as e:\n",
    "        return sorted(values)  # Si conversion échoue, juste trier les chaînes\n",
    "\n",
    "# Récupérer les colonnes et afficher les valeurs uniques triées\n",
    "df1_transport_unique_values = sort_values(df1['MTRANS'].unique())  # Trier les valeurs dans l'ordre croissant\n",
    "df2_transport_unique_values = sort_values(df2['TransportationMode'].unique())  # Trier les valeurs dans l'ordre croissant\n",
    "\n",
    "# Afficher les différentes valeurs uniques\n",
    "df1_transport_unique_values, df2_transport_unique_values\n"
   ]
  },
  {
   "cell_type": "code",
   "execution_count": 16,
   "metadata": {},
   "outputs": [
    {
     "data": {
      "text/html": [
       "<div>\n",
       "<style scoped>\n",
       "    .dataframe tbody tr th:only-of-type {\n",
       "        vertical-align: middle;\n",
       "    }\n",
       "\n",
       "    .dataframe tbody tr th {\n",
       "        vertical-align: top;\n",
       "    }\n",
       "\n",
       "    .dataframe thead th {\n",
       "        text-align: right;\n",
       "    }\n",
       "</style>\n",
       "<table border=\"1\" class=\"dataframe\">\n",
       "  <thead>\n",
       "    <tr style=\"text-align: right;\">\n",
       "      <th></th>\n",
       "      <th>id_env</th>\n",
       "      <th>transport_mode</th>\n",
       "    </tr>\n",
       "  </thead>\n",
       "  <tbody>\n",
       "    <tr>\n",
       "      <th>0</th>\n",
       "      <td>1</td>\n",
       "      <td>Car</td>\n",
       "    </tr>\n",
       "    <tr>\n",
       "      <th>1</th>\n",
       "      <td>2</td>\n",
       "      <td>Bike</td>\n",
       "    </tr>\n",
       "    <tr>\n",
       "      <th>2</th>\n",
       "      <td>3</td>\n",
       "      <td>Motorbike</td>\n",
       "    </tr>\n",
       "    <tr>\n",
       "      <th>3</th>\n",
       "      <td>4</td>\n",
       "      <td>Public_Transportation</td>\n",
       "    </tr>\n",
       "    <tr>\n",
       "      <th>4</th>\n",
       "      <td>5</td>\n",
       "      <td>Walk</td>\n",
       "    </tr>\n",
       "  </tbody>\n",
       "</table>\n",
       "</div>"
      ],
      "text/plain": [
       "   id_env         transport_mode\n",
       "0       1                    Car\n",
       "1       2                   Bike\n",
       "2       3              Motorbike\n",
       "3       4  Public_Transportation\n",
       "4       5                   Walk"
      ]
     },
     "execution_count": 16,
     "metadata": {},
     "output_type": "execute_result"
    }
   ],
   "source": [
    "# Combiner les deux listes de valeurs uniques en un seul DataFrame\n",
    "combined_transport = pd.DataFrame({\n",
    "    'transport_mode': df1_transport_unique_values + df2_transport_unique_values\n",
    "})\n",
    "\n",
    "# Remplacer \"Automobile\" par \"Car\" dans le DataFrame combiné\n",
    "combined_transport['transport_mode'] = combined_transport['transport_mode'].replace('Automobile', 'Car')\n",
    "combined_transport['transport_mode'] = combined_transport['transport_mode'].replace('Public Transit', 'Public_Transportation')\n",
    "combined_transport['transport_mode'] = combined_transport['transport_mode'].replace('Walking', 'Walk')\n",
    "\n",
    "# Récupérer les valeurs uniques après remplacement\n",
    "unique_transport_values = combined_transport['transport_mode'].dropna().unique()\n",
    "\n",
    "# Créer un DataFrame final avec transport_id et les valeurs uniques\n",
    "df_transport = pd.DataFrame({\n",
    "    'id_env': range(1, len(unique_transport_values) + 1),\n",
    "    'transport_mode': unique_transport_values\n",
    "})\n",
    "\n",
    "# Afficher le DataFrame final\n",
    "df_transport\n"
   ]
  },
  {
   "cell_type": "code",
   "execution_count": 17,
   "metadata": {},
   "outputs": [
    {
     "name": "stdout",
     "output_type": "stream",
     "text": [
      "Les données ont été insérées avec succès dans la table 'Environment'.\n"
     ]
    },
    {
     "name": "stderr",
     "output_type": "stream",
     "text": [
      "C:\\Users\\user\\AppData\\Local\\Temp\\ipykernel_22652\\837467409.py:1: UserWarning: The provided table name 'Environment' is not found exactly as such in the database after writing the table, possibly due to case sensitivity issues. Consider using lower case table names.\n",
      "  df_transport.to_sql('Environment', engine, if_exists='append', index=False)\n"
     ]
    }
   ],
   "source": [
    "df_transport.to_sql('Environment', engine, if_exists='append', index=False)\n",
    "\n",
    "print(\"Les données ont été insérées avec succès dans la table 'Environment'.\")\n"
   ]
  }
 ],
 "metadata": {
  "kernelspec": {
   "display_name": "Python 3",
   "language": "python",
   "name": "python3"
  },
  "language_info": {
   "codemirror_mode": {
    "name": "ipython",
    "version": 3
   },
   "file_extension": ".py",
   "mimetype": "text/x-python",
   "name": "python",
   "nbconvert_exporter": "python",
   "pygments_lexer": "ipython3",
   "version": "3.11.3"
  }
 },
 "nbformat": 4,
 "nbformat_minor": 2
}
