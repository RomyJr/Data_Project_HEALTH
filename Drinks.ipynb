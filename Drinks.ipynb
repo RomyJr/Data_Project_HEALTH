{
 "cells": [
  {
   "cell_type": "code",
   "execution_count": 23,
   "metadata": {},
   "outputs": [],
   "source": [
    "import numpy as np\n",
    "import pandas as pd"
   ]
  },
  {
   "cell_type": "markdown",
   "metadata": {},
   "source": [
    "On se connecte à la base de données"
   ]
  },
  {
   "cell_type": "code",
   "execution_count": 24,
   "metadata": {},
   "outputs": [],
   "source": [
    "from db_utils import get_db_engine\n",
    "\n",
    "# Obtenir le moteur de base de données\n",
    "engine = get_db_engine()"
   ]
  },
  {
   "cell_type": "code",
   "execution_count": 25,
   "metadata": {},
   "outputs": [],
   "source": [
    "# Charger les fichiers sources\n",
    "file1 = 'data\\\\ObesityDataSet_raw_and_data_sinthetic.csv'\n",
    "file2 = 'data\\\\DietSurvey_toJson.json'\n",
    "\n",
    "# Charger les fichiers dans des DataFrames\n",
    "df1 = pd.read_csv(file1)\n",
    "df2 = pd.read_json(file2)\n"
   ]
  },
  {
   "cell_type": "code",
   "execution_count": 26,
   "metadata": {},
   "outputs": [
    {
     "name": "stdout",
     "output_type": "stream",
     "text": [
      "drinks1 préparé.\n",
      "drinks2 préparé.\n"
     ]
    }
   ],
   "source": [
    "# drinks1 - df1\n",
    "drinks1 = df1[['SCC', 'CH2O']].rename(\n",
    "    columns={\n",
    "        'SCC': 'sugary_con',\n",
    "        'CH2O': 'water_con'\n",
    "    }\n",
    ")\n",
    "drinks1['alcohol_con'] = None  # Pas de colonne correspondante dans df1\n",
    "\n",
    "print(\"drinks1 préparé.\")\n",
    "\n",
    "# drinks2 - df2\n",
    "drinks2 = df2[\n",
    "    [\n",
    "        \"What is your water consumption like (in a day, 1 cup=250ml approx)\",\n",
    "        \"How frequently do you consume these beverages [Aerated (Soft) Drinks]\",\n",
    "        \"How frequently do you consume these beverages [Alcoholic Beverages]\"\n",
    "    ]\n",
    "].rename(\n",
    "    columns={\n",
    "        \"What is your water consumption like (in a day, 1 cup=250ml approx)\": \"water_con\",\n",
    "        \"How frequently do you consume these beverages [Alcoholic Beverages]\": \"alcohol_con\",\n",
    "        \"How frequently do you consume these beverages [Aerated (Soft) Drinks]\": \"sugary_con\"\n",
    "    }\n",
    ")\n",
    "\n",
    "print(\"drinks2 préparé.\")\n"
   ]
  },
  {
   "cell_type": "code",
   "execution_count": 27,
   "metadata": {},
   "outputs": [],
   "source": [
    "# Fonction pour convertir la note en catégorie 'water_con'\n",
    "def categorize_water_con(note):\n",
    "    if note >= 2.7:\n",
    "        return 'More than 15 cups'\n",
    "    elif note >= 2.3:\n",
    "        return '11-14 cups'\n",
    "    elif note >= 1.7:\n",
    "        return '7-10 cups'\n",
    "    elif note >= 1.0:\n",
    "        return '4-6 cups'\n",
    "    else:\n",
    "        return 'Less than 3 cups'\n",
    "\n",
    "# Appliquer la fonction à la colonne 'water_con' de food_habits1\n",
    "drinks1 ['water_con'] = drinks1 ['water_con'].apply(categorize_water_con)"
   ]
  },
  {
   "cell_type": "code",
   "execution_count": 28,
   "metadata": {},
   "outputs": [
    {
     "name": "stdout",
     "output_type": "stream",
     "text": [
      "   sugary_con          water_con alcohol_con\n",
      "0       Never          7-10 cups        None\n",
      "1  Less often  More than 15 cups        None\n",
      "2       Never          7-10 cups        None\n",
      "3       Never          7-10 cups        None\n",
      "4       Never          7-10 cups        None\n"
     ]
    }
   ],
   "source": [
    "import numpy as np\n",
    "\n",
    "# Définir les options pour \"yes\"\n",
    "yes_options = ['Once a month', 'Few times a week', 'Less often']\n",
    "\n",
    "# Appliquer la transformation\n",
    "drinks1['sugary_con'] = drinks1['sugary_con'].apply(\n",
    "    lambda x: 'Never' if x == 'no' else np.random.choice(yes_options)\n",
    ")\n",
    "\n",
    "print(drinks1.head())\n"
   ]
  },
  {
   "cell_type": "code",
   "execution_count": 29,
   "metadata": {},
   "outputs": [
    {
     "name": "stdout",
     "output_type": "stream",
     "text": [
      "Drinks combiné.\n"
     ]
    }
   ],
   "source": [
    "# Concatenation des DataFrames préparés\n",
    "drinks = pd.concat([drinks1, drinks2], ignore_index=True)\n",
    "print(\"Drinks combiné.\")"
   ]
  },
  {
   "cell_type": "code",
   "execution_count": 30,
   "metadata": {},
   "outputs": [],
   "source": [
    "# Fonction pour générer un nombre aléatoire dans les plages de chaque catégorie\n",
    "def randomize_water_con(value):\n",
    "    if value == 'More than 15 cups':\n",
    "        return np.random.randint(15, 25)  # Entre 15 et 20\n",
    "    elif value == '11-14 cups':\n",
    "        return np.random.randint(11, 14)  # Entre 11 et 14\n",
    "    elif value == '7-10 cups':\n",
    "        return np.random.randint(7, 10)   # Entre 7 et 10\n",
    "    elif value == '4-6 cups':\n",
    "        return np.random.randint(4, 6)    # Entre 4 et 6\n",
    "    elif value == 'Less than 3 cups':\n",
    "        return np.random.randint(0, 3)    # Entre 0 et 3\n",
    "    else:\n",
    "        return value\n",
    "\n",
    "# Appliquer la fonction à la colonne 'water_con' de food_habits\n",
    "drinks['water_con'] = drinks['water_con'].apply(randomize_water_con)\n"
   ]
  },
  {
   "cell_type": "code",
   "execution_count": 31,
   "metadata": {},
   "outputs": [
    {
     "data": {
      "text/html": [
       "<div>\n",
       "<style scoped>\n",
       "    .dataframe tbody tr th:only-of-type {\n",
       "        vertical-align: middle;\n",
       "    }\n",
       "\n",
       "    .dataframe tbody tr th {\n",
       "        vertical-align: top;\n",
       "    }\n",
       "\n",
       "    .dataframe thead th {\n",
       "        text-align: right;\n",
       "    }\n",
       "</style>\n",
       "<table border=\"1\" class=\"dataframe\">\n",
       "  <thead>\n",
       "    <tr style=\"text-align: right;\">\n",
       "      <th></th>\n",
       "      <th>sugary_con</th>\n",
       "      <th>water_con</th>\n",
       "      <th>alcohol_con</th>\n",
       "    </tr>\n",
       "  </thead>\n",
       "  <tbody>\n",
       "    <tr>\n",
       "      <th>0</th>\n",
       "      <td>Never</td>\n",
       "      <td>8</td>\n",
       "      <td>None</td>\n",
       "    </tr>\n",
       "    <tr>\n",
       "      <th>1</th>\n",
       "      <td>Less often</td>\n",
       "      <td>21</td>\n",
       "      <td>None</td>\n",
       "    </tr>\n",
       "    <tr>\n",
       "      <th>2</th>\n",
       "      <td>Never</td>\n",
       "      <td>8</td>\n",
       "      <td>None</td>\n",
       "    </tr>\n",
       "    <tr>\n",
       "      <th>3</th>\n",
       "      <td>Never</td>\n",
       "      <td>9</td>\n",
       "      <td>None</td>\n",
       "    </tr>\n",
       "    <tr>\n",
       "      <th>4</th>\n",
       "      <td>Never</td>\n",
       "      <td>7</td>\n",
       "      <td>None</td>\n",
       "    </tr>\n",
       "    <tr>\n",
       "      <th>...</th>\n",
       "      <td>...</td>\n",
       "      <td>...</td>\n",
       "      <td>...</td>\n",
       "    </tr>\n",
       "    <tr>\n",
       "      <th>2184</th>\n",
       "      <td>Once a day</td>\n",
       "      <td>8</td>\n",
       "      <td>Few times a week</td>\n",
       "    </tr>\n",
       "    <tr>\n",
       "      <th>2185</th>\n",
       "      <td>Never</td>\n",
       "      <td>24</td>\n",
       "      <td>Few times a week</td>\n",
       "    </tr>\n",
       "    <tr>\n",
       "      <th>2186</th>\n",
       "      <td>Once a month</td>\n",
       "      <td>7</td>\n",
       "      <td>Never</td>\n",
       "    </tr>\n",
       "    <tr>\n",
       "      <th>2187</th>\n",
       "      <td>Once a month</td>\n",
       "      <td>5</td>\n",
       "      <td>Few times a week</td>\n",
       "    </tr>\n",
       "    <tr>\n",
       "      <th>2188</th>\n",
       "      <td>Once a month</td>\n",
       "      <td>4</td>\n",
       "      <td>Once a month</td>\n",
       "    </tr>\n",
       "  </tbody>\n",
       "</table>\n",
       "<p>2189 rows × 3 columns</p>\n",
       "</div>"
      ],
      "text/plain": [
       "        sugary_con  water_con       alcohol_con\n",
       "0            Never          8              None\n",
       "1       Less often         21              None\n",
       "2            Never          8              None\n",
       "3            Never          9              None\n",
       "4            Never          7              None\n",
       "...            ...        ...               ...\n",
       "2184    Once a day          8  Few times a week\n",
       "2185         Never         24  Few times a week\n",
       "2186  Once a month          7             Never\n",
       "2187  Once a month          5  Few times a week\n",
       "2188  Once a month          4      Once a month\n",
       "\n",
       "[2189 rows x 3 columns]"
      ]
     },
     "execution_count": 31,
     "metadata": {},
     "output_type": "execute_result"
    }
   ],
   "source": [
    "drinks"
   ]
  },
  {
   "cell_type": "code",
   "execution_count": 32,
   "metadata": {},
   "outputs": [
    {
     "data": {
      "image/png": "[encoded data removed]",
      "text/plain": [
       "<Figure size 1500x1500 with 3 Axes>"
      ]
     },
     "metadata": {},
     "output_type": "display_data"
    }
   ],
   "source": [
    "import matplotlib.pyplot as plt\n",
    "import seaborn as sns\n",
    "\n",
    "# Définir la taille de la figure pour afficher plusieurs graphes\n",
    "plt.figure(figsize=(15, 15))\n",
    "\n",
    "# Loop à travers chaque colonne du DataFrame pour créer un histogramme\n",
    "for i, column in enumerate(drinks.columns):\n",
    "    plt.subplot(5, 3, i + 1)  # 5 lignes, 3 colonnes pour organiser les graphiques\n",
    "    if drinks[column].dtype == 'object':  # Si la colonne est catégorielle\n",
    "        sns.countplot(data=drinks, x=column)\n",
    "        plt.title(f'Histogramme de {column}')\n",
    "        plt.xticks(rotation=45)\n",
    "    else:  # Si la colonne est numérique\n",
    "        sns.histplot(drinks[column], kde=True, bins=15)\n",
    "        plt.title(f'Histogramme de {column}')\n",
    "    \n",
    "    plt.tight_layout()  # Ajuster l'espacement entre les graphiques\n",
    "\n",
    "# Afficher tous les graphiques\n",
    "plt.show()\n"
   ]
  },
  {
   "cell_type": "code",
   "execution_count": 34,
   "metadata": {},
   "outputs": [
    {
     "data": {
      "text/html": [
       "<div>\n",
       "<style scoped>\n",
       "    .dataframe tbody tr th:only-of-type {\n",
       "        vertical-align: middle;\n",
       "    }\n",
       "\n",
       "    .dataframe tbody tr th {\n",
       "        vertical-align: top;\n",
       "    }\n",
       "\n",
       "    .dataframe thead th {\n",
       "        text-align: right;\n",
       "    }\n",
       "</style>\n",
       "<table border=\"1\" class=\"dataframe\">\n",
       "  <thead>\n",
       "    <tr style=\"text-align: right;\">\n",
       "      <th></th>\n",
       "      <th>sugary_con</th>\n",
       "      <th>water_con</th>\n",
       "      <th>alcohol_con</th>\n",
       "    </tr>\n",
       "  </thead>\n",
       "  <tbody>\n",
       "    <tr>\n",
       "      <th>0</th>\n",
       "      <td>Never</td>\n",
       "      <td>8</td>\n",
       "      <td>None</td>\n",
       "    </tr>\n",
       "    <tr>\n",
       "      <th>1</th>\n",
       "      <td>Less often</td>\n",
       "      <td>21</td>\n",
       "      <td>None</td>\n",
       "    </tr>\n",
       "    <tr>\n",
       "      <th>3</th>\n",
       "      <td>Never</td>\n",
       "      <td>9</td>\n",
       "      <td>None</td>\n",
       "    </tr>\n",
       "    <tr>\n",
       "      <th>4</th>\n",
       "      <td>Never</td>\n",
       "      <td>7</td>\n",
       "      <td>None</td>\n",
       "    </tr>\n",
       "    <tr>\n",
       "      <th>10</th>\n",
       "      <td>Never</td>\n",
       "      <td>21</td>\n",
       "      <td>None</td>\n",
       "    </tr>\n",
       "    <tr>\n",
       "      <th>...</th>\n",
       "      <td>...</td>\n",
       "      <td>...</td>\n",
       "      <td>...</td>\n",
       "    </tr>\n",
       "    <tr>\n",
       "      <th>2181</th>\n",
       "      <td>Once a day</td>\n",
       "      <td>7</td>\n",
       "      <td>Never</td>\n",
       "    </tr>\n",
       "    <tr>\n",
       "      <th>2183</th>\n",
       "      <td>Never</td>\n",
       "      <td>8</td>\n",
       "      <td>Once a month</td>\n",
       "    </tr>\n",
       "    <tr>\n",
       "      <th>2184</th>\n",
       "      <td>Once a day</td>\n",
       "      <td>8</td>\n",
       "      <td>Few times a week</td>\n",
       "    </tr>\n",
       "    <tr>\n",
       "      <th>2185</th>\n",
       "      <td>Never</td>\n",
       "      <td>24</td>\n",
       "      <td>Few times a week</td>\n",
       "    </tr>\n",
       "    <tr>\n",
       "      <th>2187</th>\n",
       "      <td>Once a month</td>\n",
       "      <td>5</td>\n",
       "      <td>Few times a week</td>\n",
       "    </tr>\n",
       "  </tbody>\n",
       "</table>\n",
       "<p>95 rows × 3 columns</p>\n",
       "</div>"
      ],
      "text/plain": [
       "        sugary_con  water_con       alcohol_con\n",
       "0            Never          8              None\n",
       "1       Less often         21              None\n",
       "3            Never          9              None\n",
       "4            Never          7              None\n",
       "10           Never         21              None\n",
       "...            ...        ...               ...\n",
       "2181    Once a day          7             Never\n",
       "2183         Never          8      Once a month\n",
       "2184    Once a day          8  Few times a week\n",
       "2185         Never         24  Few times a week\n",
       "2187  Once a month          5  Few times a week\n",
       "\n",
       "[95 rows x 3 columns]"
      ]
     },
     "execution_count": 34,
     "metadata": {},
     "output_type": "execute_result"
    }
   ],
   "source": [
    "# Obtenir les lignes uniques\n",
    "unique_rows = drinks.drop_duplicates()\n",
    "\n",
    "# Afficher les lignes uniques\n",
    "unique_rows\n"
   ]
  },
  {
   "cell_type": "code",
   "execution_count": 35,
   "metadata": {},
   "outputs": [
    {
     "name": "stdout",
     "output_type": "stream",
     "text": [
      "    id_drinks    sugary_con  water_con       alcohol_con\n",
      "0           1         Never          8              None\n",
      "1           2    Less often         21              None\n",
      "2           3         Never          9              None\n",
      "3           4         Never          7              None\n",
      "4           5         Never         21              None\n",
      "..        ...           ...        ...               ...\n",
      "90         91    Once a day          7             Never\n",
      "91         92         Never          8      Once a month\n",
      "92         93    Once a day          8  Few times a week\n",
      "93         94         Never         24  Few times a week\n",
      "94         95  Once a month          5  Few times a week\n",
      "\n",
      "[95 rows x 4 columns]\n"
     ]
    }
   ],
   "source": [
    "# Supprimer les doublons pour conserver uniquement les lignes uniques\n",
    "drinks_unique = drinks.drop_duplicates().reset_index(drop=True)\n",
    "\n",
    "# Ajouter la colonne 'id_drinks' avec des valeurs incrémentées\n",
    "drinks_unique.insert(0, 'id_drinks', range(1, len(drinks_unique) + 1))\n",
    "\n",
    "# Afficher le DataFrame modifié\n",
    "print(drinks_unique)\n"
   ]
  },
  {
   "cell_type": "code",
   "execution_count": 36,
   "metadata": {},
   "outputs": [
    {
     "name": "stdout",
     "output_type": "stream",
     "text": [
      "Les données ont été insérées avec succès dans la table 'Diet'.\n"
     ]
    },
    {
     "name": "stderr",
     "output_type": "stream",
     "text": [
      "C:\\Users\\user\\AppData\\Local\\Temp\\ipykernel_20292\\3162262561.py:1: UserWarning: The provided table name 'Drinks' is not found exactly as such in the database after writing the table, possibly due to case sensitivity issues. Consider using lower case table names.\n",
      "  drinks_unique.to_sql('Drinks', engine, if_exists='append', index=False)\n"
     ]
    }
   ],
   "source": [
    "drinks_unique.to_sql('Drinks', engine, if_exists='append', index=False)\n",
    "\n",
    "print(\"Les données ont été insérées avec succès dans la table 'Diet'.\")\n"
   ]
  }
 ],
 "metadata": {
  "kernelspec": {
   "display_name": "Python 3",
   "language": "python",
   "name": "python3"
  },
  "language_info": {
   "codemirror_mode": {
    "name": "ipython",
    "version": 3
   },
   "file_extension": ".py",
   "mimetype": "text/x-python",
   "name": "python",
   "nbconvert_exporter": "python",
   "pygments_lexer": "ipython3",
   "version": "3.11.3"
  }
 },
 "nbformat": 4,
 "nbformat_minor": 2
}
