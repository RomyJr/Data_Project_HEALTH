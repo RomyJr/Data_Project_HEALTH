{
 "cells": [
  {
   "cell_type": "code",
   "execution_count": 3,
   "metadata": {},
   "outputs": [],
   "source": [
    "import numpy as np\n",
    "import pandas as pd"
   ]
  },
  {
   "cell_type": "markdown",
   "metadata": {},
   "source": [
    "On se connecte à la base de données"
   ]
  },
  {
   "cell_type": "code",
   "execution_count": 4,
   "metadata": {},
   "outputs": [],
   "source": [
    "from db_utils import get_db_engine\n",
    "\n",
    "# Obtenir le moteur de base de données\n",
    "engine = get_db_engine()"
   ]
  },
  {
   "cell_type": "code",
   "execution_count": 5,
   "metadata": {},
   "outputs": [],
   "source": [
    "# Charger les fichiers sources\n",
    "file1 = 'data\\\\ObesityDataSet_raw_and_data_sinthetic.csv'\n",
    "file2 = 'data\\\\DietSurvey_toJson.json'\n",
    "\n",
    "# Charger les fichiers dans des DataFrames\n",
    "df1 = pd.read_csv(file1)\n",
    "df2 = pd.read_json(file2)\n"
   ]
  },
  {
   "cell_type": "code",
   "execution_count": null,
   "metadata": {},
   "outputs": [],
   "source": [
    "# food1 - df1\n",
    "food1 = df1[['FCVC', 'FAVC']].rename(\n",
    "    columns={\n",
    "        'FCVC': 'vegetable_con',\n",
    "        'FAVC': 'fat_con'\n",
    "    }\n",
    ")\n",
    "food1['takeout'] = None  # Pas de colonne correspondante dans df1\n",
    "\n",
    "print(\"food1 préparé.\")\n",
    "\n",
    "# food2 - df2\n",
    "food2 = df2[\n",
    "    [\n",
    "        \"What is your weekly food intake frequency of the following food categories: [Fresh vegetables]\",\n",
    "        \"What is your weekly food intake frequency of the following food categories: [Oily, fried foods]\"\n",
    "    ]\n",
    "].rename(\n",
    "    columns={\n",
    "        \"What is your weekly food intake frequency of the following food categories: [Fresh vegetables]\":\"vegetable_con\",\n",
    "        \"What is your weekly food intake frequency of the following food categories: [Oily, fried foods]\":\"fat_con\"\n",
    "    }\n",
    ")\n",
    "\n",
    "print(\"food2 préparé.\")\n"
   ]
  },
  {
   "cell_type": "code",
   "execution_count": null,
   "metadata": {},
   "outputs": [],
   "source": []
  },
  {
   "cell_type": "code",
   "execution_count": null,
   "metadata": {},
   "outputs": [],
   "source": [
    "# Concatenation des DataFrames préparés\n",
    "foods = pd.concat([food1, food2], ignore_index=True)\n",
    "print(\"Drinks combiné.\")"
   ]
  },
  {
   "cell_type": "code",
   "execution_count": null,
   "metadata": {},
   "outputs": [],
   "source": [
    "import matplotlib.pyplot as plt\n",
    "import seaborn as sns\n",
    "\n",
    "# Définir la taille de la figure pour afficher plusieurs graphes\n",
    "plt.figure(figsize=(15, 15))\n",
    "\n",
    "# Loop à travers chaque colonne du DataFrame pour créer un histogramme\n",
    "for i, column in enumerate(foods.columns):\n",
    "    plt.subplot(5, 3, i + 1)  # 5 lignes, 3 colonnes pour organiser les graphiques\n",
    "    if foods[column].dtype == 'object':  # Si la colonne est catégorielle\n",
    "        sns.countplot(data=foods, x=column)\n",
    "        plt.title(f'Histogramme de {column}')\n",
    "        plt.xticks(rotation=45)\n",
    "    else:  # Si la colonne est numérique\n",
    "        sns.histplot(foods[column], kde=True, bins=15)\n",
    "        plt.title(f'Histogramme de {column}')\n",
    "    \n",
    "    plt.tight_layout()  # Ajuster l'espacement entre les graphiques\n",
    "\n",
    "# Afficher tous les graphiques\n",
    "plt.show()\n"
   ]
  }
 ],
 "metadata": {
  "kernelspec": {
   "display_name": "Python 3",
   "language": "python",
   "name": "python3"
  },
  "language_info": {
   "codemirror_mode": {
    "name": "ipython",
    "version": 3
   },
   "file_extension": ".py",
   "mimetype": "text/x-python",
   "name": "python",
   "nbconvert_exporter": "python",
   "pygments_lexer": "ipython3",
   "version": "3.11.3"
  }
 },
 "nbformat": 4,
 "nbformat_minor": 2
}
