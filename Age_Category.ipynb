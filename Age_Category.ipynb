{
 "cells": [
  {
   "cell_type": "code",
   "execution_count": 8,
   "metadata": {},
   "outputs": [],
   "source": [
    "from dotenv import load_dotenv\n",
    "import pandas as pd\n",
    "import os\n",
    "from sqlalchemy import create_engine"
   ]
  },
  {
   "cell_type": "markdown",
   "metadata": {},
   "source": [
    "1. On récupère les données"
   ]
  },
  {
   "cell_type": "code",
   "execution_count": 2,
   "metadata": {},
   "outputs": [
    {
     "name": "stdout",
     "output_type": "stream",
     "text": [
      "Données chargées avec succès ! Voici un aperçu :\n",
      "     Age  Gender  \\\n",
      "0  18-24    Male   \n",
      "1  18-24    Male   \n",
      "2  45-54    Male   \n",
      "3  18-24    Male   \n",
      "4  18-24  Female   \n",
      "\n",
      "   How many meals do you have a day? (number of regular occasions in a day when a significant and reasonably filling amount of food is eaten)  \\\n",
      "0                                                  5                                                                                            \n",
      "1                                                  4                                                                                            \n",
      "2                                                  3                                                                                            \n",
      "3                                                  2                                                                                            \n",
      "4                                                  3                                                                                            \n",
      "\n",
      "                 What would best describe your diet:  \\\n",
      "0  Pollotarian (Vegetarian who consumes poultry a...   \n",
      "1                        Vegetarian (No egg or meat)   \n",
      "2  Pescatarian (Vegetarian who consumes only seaf...   \n",
      "3                                     Non-Vegetarian   \n",
      "4  Eggetarian (Vegetarian who consumes egg and eg...   \n",
      "\n",
      "  Choose all that apply: [I skip meals]  \\\n",
      "0                                Rarely   \n",
      "1                                Rarely   \n",
      "2                                 Never   \n",
      "3                                 Often   \n",
      "4                             Sometimes   \n",
      "\n",
      "  Choose all that apply: [I experience feelings of hunger during the day]  \\\n",
      "0                                              Often                        \n",
      "1                                              Often                        \n",
      "2                                             Rarely                        \n",
      "3                                              Often                        \n",
      "4                                          Sometimes                        \n",
      "\n",
      "  Choose all that apply: [I consult a nutritionist/dietician]  \\\n",
      "0                                              Never            \n",
      "1                                             Rarely            \n",
      "2                                              Never            \n",
      "3                                              Never            \n",
      "4                                              Never            \n",
      "\n",
      "  Choose all that apply: [I cook my own meals]  \\\n",
      "0                                    Sometimes   \n",
      "1                                       Rarely   \n",
      "2                                        Never   \n",
      "3                                    Sometimes   \n",
      "4                                        Often   \n",
      "\n",
      "  What would you consider to be the main meal of YOUR day?  \\\n",
      "0                                              Lunch         \n",
      "1                                              Lunch         \n",
      "2                                                All         \n",
      "3                                              Lunch         \n",
      "4                                          Breakfast         \n",
      "\n",
      "  What does your diet mostly consist of and how is it prepared?  ...  \\\n",
      "0                        Freshly home-cooked produce             ...   \n",
      "1                        Freshly home-cooked produce             ...   \n",
      "2                        Freshly home-cooked produce             ...   \n",
      "3                        Freshly home-cooked produce             ...   \n",
      "4                        Freshly home-cooked produce             ...   \n",
      "\n",
      "   What is your weekly food intake frequency of the following food categories: [Meat]  \\\n",
      "0                                              Often                                    \n",
      "1                                              Never                                    \n",
      "2                                              Never                                    \n",
      "3                                         Once a day                                    \n",
      "4                                              Never                                    \n",
      "\n",
      "  What is your weekly food intake frequency of the following food categories: [Seafood ]  \\\n",
      "0                                              Often                                       \n",
      "1                                              Never                                       \n",
      "2                                              Often                                       \n",
      "3                                   Few times a week                                       \n",
      "4                                              Never                                       \n",
      "\n",
      "  How frequently do you consume these beverages [Tea]  \\\n",
      "0                                              Never    \n",
      "1                                         Less often    \n",
      "2                                         Once a day    \n",
      "3                                   Few times a week    \n",
      "4                                              Never    \n",
      "\n",
      "  How frequently do you consume these beverages [Coffee]  \\\n",
      "0                                              Never       \n",
      "1                                              Never       \n",
      "2                                         Less often       \n",
      "3                                         Once a day       \n",
      "4                                              Never       \n",
      "\n",
      "  How frequently do you consume these beverages [Aerated (Soft) Drinks]  \\\n",
      "0                                         Less often                      \n",
      "1                                              Often                      \n",
      "2                                              Never                      \n",
      "3                                       Once a month                      \n",
      "4                                       Once a month                      \n",
      "\n",
      "  How frequently do you consume these beverages [Fruit Juices (Fresh/Packaged)]  \\\n",
      "0                                              Never                              \n",
      "1                                         Once a day                              \n",
      "2                                         Less often                              \n",
      "3                                       Once a month                              \n",
      "4                                       Once a month                              \n",
      "\n",
      "  How frequently do you consume these beverages [Dairy Beverages (Milk, Milkshakes, Smoothies, Buttermilk, etc)]  \\\n",
      "0                                         Less often                                                               \n",
      "1                                              Often                                                               \n",
      "2                                         Once a day                                                               \n",
      "3                                   Few times a week                                                               \n",
      "4                                         Once a day                                                               \n",
      "\n",
      "  How frequently do you consume these beverages [Alcoholic Beverages]  \\\n",
      "0                                              Never                    \n",
      "1                                              Never                    \n",
      "2                                              Never                    \n",
      "3                                              Never                    \n",
      "4                                       Once a month                    \n",
      "\n",
      "  What is your water consumption like (in a day, 1 cup=250ml approx)    \n",
      "0                                  More than 15 cups                    \n",
      "1                                         11-14 cups                    \n",
      "2                                  More than 15 cups                    \n",
      "3                                          7-10 cups                    \n",
      "4                                           4-6 cups                    \n",
      "\n",
      "[5 rows x 27 columns]\n"
     ]
    }
   ],
   "source": [
    "file_path = \"C:\\\\Users\\\\user\\\\Desktop\\\\Scolarite\\\\3 - E5e\\\\S9\\\\Technologies du Big Data\\\\PROJET\\\\CODE\\\\data\\\\DietSurvey_toJson.json\"\n",
    "\n",
    "data = pd.read_json(file_path)\n",
    "\n",
    "print(\"Données chargées avec succès ! Voici un aperçu :\")\n",
    "print(data.head())"
   ]
  },
  {
   "cell_type": "markdown",
   "metadata": {},
   "source": [
    "2. Extraire les âges uniques et créer un ID pour chaque groupe d'âge"
   ]
  },
  {
   "cell_type": "code",
   "execution_count": 3,
   "metadata": {},
   "outputs": [
    {
     "name": "stdout",
     "output_type": "stream",
     "text": [
      "Les catégories d'âge extraites avec succès :\n",
      "   id_age_category age_group\n",
      "0                1     18-24\n",
      "1                2     45-54\n",
      "2                3  Above 65\n",
      "3                4  Under 18\n",
      "4                5     35-44\n"
     ]
    }
   ],
   "source": [
    "ages = data['Age'].dropna().unique()  # Suppression des valeurs nulles et récupération des valeurs uniques\n",
    "\n",
    "# Créer un DataFrame avec ces âges uniques et un ID\n",
    "age_categories = pd.DataFrame({\n",
    "    'id_age_category': range(1, len(ages) + 1),  # ID unique pour chaque groupe d'âge\n",
    "    'age_group': ages\n",
    "})\n",
    "\n",
    "print(\"Les catégories d'âge extraites avec succès :\")\n",
    "print(age_categories)\n"
   ]
  },
  {
   "cell_type": "markdown",
   "metadata": {},
   "source": [
    "3. Connexion à la base de données MySQL"
   ]
  },
  {
   "cell_type": "code",
   "execution_count": 10,
   "metadata": {},
   "outputs": [],
   "source": [
    "from db_utils import get_db_engine\n",
    "\n",
    "# Obtenir le moteur de base de données\n",
    "engine = get_db_engine()"
   ]
  },
  {
   "cell_type": "markdown",
   "metadata": {},
   "source": [
    "4. Insérer les données dans la table \"Age_Category\""
   ]
  },
  {
   "cell_type": "code",
   "execution_count": null,
   "metadata": {},
   "outputs": [
    {
     "name": "stdout",
     "output_type": "stream",
     "text": [
      "Les données ont été insérées avec succès dans la table 'Age_Category'.\n"
     ]
    },
    {
     "name": "stderr",
     "output_type": "stream",
     "text": [
      "C:\\Users\\user\\AppData\\Local\\Temp\\ipykernel_16256\\783763469.py:3: UserWarning: The provided table name 'Age_Category' is not found exactly as such in the database after writing the table, possibly due to case sensitivity issues. Consider using lower case table names.\n",
      "  age_categories.to_sql('Age_Category', engine, if_exists='append', index=False)\n"
     ]
    }
   ],
   "source": [
    "age_categories.to_sql('Age_Category', engine, if_exists='append', index=False)\n",
    "\n",
    "print(\"Les données ont été insérées avec succès dans la table 'Age_Category'.\")\n"
   ]
  }
 ],
 "metadata": {
  "kernelspec": {
   "display_name": "Python 3",
   "language": "python",
   "name": "python3"
  },
  "language_info": {
   "codemirror_mode": {
    "name": "ipython",
    "version": 3
   },
   "file_extension": ".py",
   "mimetype": "text/x-python",
   "name": "python",
   "nbconvert_exporter": "python",
   "pygments_lexer": "ipython3",
   "version": "3.11.3"
  }
 },
 "nbformat": 4,
 "nbformat_minor": 2
}
