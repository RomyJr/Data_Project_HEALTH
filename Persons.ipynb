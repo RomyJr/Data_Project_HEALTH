{
 "cells": [
  {
   "cell_type": "code",
   "execution_count": 67,
   "metadata": {},
   "outputs": [],
   "source": [
    "import pandas as pd\n",
    "import random\n",
    "from sqlalchemy import create_engine"
   ]
  },
  {
   "cell_type": "markdown",
   "metadata": {},
   "source": [
    "1. Charger les fichiers et générer des IDs uniques"
   ]
  },
  {
   "cell_type": "code",
   "execution_count": 68,
   "metadata": {},
   "outputs": [
    {
     "name": "stdout",
     "output_type": "stream",
     "text": [
      "Aperçu des IDs générés pour chaque fichier :\n",
      "   id_person\n",
      "0          1\n",
      "1          2\n",
      "2          3\n",
      "3          4\n",
      "4          5\n",
      "   id_person\n",
      "0       2112\n",
      "1       2113\n",
      "2       2114\n",
      "3       2115\n",
      "4       2116\n",
      "   id_person\n",
      "0       2611\n",
      "1       2612\n",
      "2       2613\n",
      "3       2614\n",
      "4       2615\n",
      "   id_person\n",
      "0       2985\n",
      "1       2986\n",
      "2       2987\n",
      "3       2988\n",
      "4       2989\n"
     ]
    }
   ],
   "source": [
    "# Charger les fichiers sources\n",
    "file1 = 'data\\\\ObesityDataSet_raw_and_data_sinthetic.csv'\n",
    "file2 = 'data\\\\lifestyle_sustainability_data.csv'\n",
    "file3 = 'data\\\\Sleep_health_and_lifestyle_dataset.csv'\n",
    "file4 = 'data\\\\DietSurvey_toJson.json'\n",
    "\n",
    "# Charger les fichiers dans des DataFrames\n",
    "df1 = pd.read_csv(file1)\n",
    "df2 = pd.read_csv(file2)\n",
    "df3 = pd.read_csv(file3)\n",
    "df4 = pd.read_json(file4)\n",
    "\n",
    "# Ajouter des IDs uniques pour chaque fichier\n",
    "df1['id_person'] = range(1, len(df1) + 1)\n",
    "df2['id_person'] = range(len(df1) + 1, len(df1) + len(df2) + 1)\n",
    "df3['id_person'] = range(len(df1) + len(df2) + 1, len(df1) + len(df2) + len(df3) + 1)\n",
    "df4['id_person'] = range(len(df1) + len(df2) + len(df3) + 1, len(df1) + len(df2) + len(df3) + len(df4) + 1)\n",
    "\n",
    "# Afficher un aperçu des IDs pour validation\n",
    "print(\"Aperçu des IDs générés pour chaque fichier :\")\n",
    "print(df1[['id_person']].head())\n",
    "print(df2[['id_person']].head())\n",
    "print(df3[['id_person']].head())\n",
    "print(df4[['id_person']].head())\n"
   ]
  },
  {
   "cell_type": "markdown",
   "metadata": {},
   "source": [
    "Étape 2 : Créer la table principale Persons avec des données spécifiques"
   ]
  },
  {
   "cell_type": "markdown",
   "metadata": {},
   "source": [
    "On génère un age contenu dans la fourchette de la colonne age (ex : \"Age\": \"18-24\") pour les données qui viennent du fichier Json."
   ]
  },
  {
   "cell_type": "code",
   "execution_count": 69,
   "metadata": {},
   "outputs": [],
   "source": [
    "# Fonction pour générer un âge aléatoire basé sur une fourchette\n",
    "def generate_random_age(age_range):\n",
    "    if age_range == \"Under 18\":\n",
    "        return random.randint(15, 17)\n",
    "    elif age_range == \"18-24\":\n",
    "        return random.randint(18, 24)\n",
    "    elif age_range == \"25-34\":\n",
    "        return random.randint(25, 34)\n",
    "    elif age_range == \"35-44\":\n",
    "        return random.randint(35, 44)\n",
    "    elif age_range == \"45-54\":\n",
    "        return random.randint(45, 54)\n",
    "    elif age_range == \"55-64\":\n",
    "        return random.randint(55, 64)\n",
    "    elif age_range == \"Above 65\":\n",
    "        return random.randint(66, 100)  \n",
    "    else:\n",
    "        return None  # Gère les cas où la fourchette est manquante ou incorrecte\n"
   ]
  },
  {
   "cell_type": "markdown",
   "metadata": {},
   "source": [
    "On associe la catégorie d'age correspondante."
   ]
  },
  {
   "cell_type": "code",
   "execution_count": 70,
   "metadata": {},
   "outputs": [],
   "source": [
    "# Fonction pour obtenir l'ID de la catégorie d'âge en fonction de la tranche\n",
    "def get_age_category_id(age):\n",
    "    if 18 <= age <= 24:\n",
    "        return 1  # ID pour 18-24\n",
    "    elif 25 <= age <= 34:\n",
    "        return 6  # ID pour 25-34\n",
    "    elif 35 <= age <= 44:\n",
    "        return 5  # ID pour 35-44\n",
    "    elif 45 <= age <= 54:\n",
    "        return 2  # ID pour 45-54\n",
    "    elif 55 <= age <= 64:\n",
    "        return 7  # ID pour 55-64\n",
    "    elif age >= 65:\n",
    "        return 3  # ID pour Above 65\n",
    "    else:\n",
    "        return 4  # ID pour Under 18"
   ]
  },
  {
   "cell_type": "code",
   "execution_count": 71,
   "metadata": {},
   "outputs": [
    {
     "name": "stdout",
     "output_type": "stream",
     "text": [
      "persons1 préparé.\n",
      "persons2 préparé.\n",
      "persons4 préparé avec âges générés.\n",
      "persons4 préparé avec âges générés et colonne 'generated_age' supprimée.\n",
      "Données combinées dans `persons`.\n",
      "Table `Persons` avec `id_age_category` ajoutée :\n",
      "   id_person  gender   age health_history  height  weight  id_age_category\n",
      "0          1  Female  21.0            yes    1.62    64.0                1\n",
      "1          2  Female  21.0            yes    1.52    56.0                1\n",
      "2          3    Male  23.0            yes    1.80    77.0                1\n",
      "3          4    Male  27.0             no    1.80    87.0                6\n",
      "4          5    Male  22.0             no    1.78    89.8                1\n"
     ]
    },
    {
     "name": "stderr",
     "output_type": "stream",
     "text": [
      "C:\\Users\\user\\AppData\\Local\\Temp\\ipykernel_14100\\446324303.py:42: FutureWarning: The behavior of DataFrame concatenation with empty or all-NA entries is deprecated. In a future version, this will no longer exclude empty or all-NA columns when determining the result dtypes. To retain the old behavior, exclude the relevant entries before the concat operation.\n",
      "  persons = pd.concat([persons1, persons2, persons3, persons4], ignore_index=True)\n"
     ]
    }
   ],
   "source": [
    "# persons1 - df1\n",
    "persons1 = df1[['id_person', 'Gender', 'Age', 'family_history_with_overweight', 'Height', 'Weight']].rename(\n",
    "    columns={'Gender': 'gender', 'Age': 'age', 'family_history_with_overweight': 'health_history', 'Height': 'height', 'Weight': 'weight'}\n",
    ")\n",
    "print(\"persons1 préparé.\")\n",
    "\n",
    "# persons2 - df2\n",
    "persons2 = df2[['id_person', 'Gender', 'Age']].rename(columns={'Gender': 'gender', 'Age': 'age'})\n",
    "persons2['health_history'] = None\n",
    "persons2['height'] = None\n",
    "persons2['weight'] = None\n",
    "print(\"persons2 préparé.\")\n",
    "\n",
    "# persons3 - df3\n",
    "persons3 = df3[['id_person', 'Gender', 'Age', 'BMI Category']].rename(\n",
    "    columns={'Gender': 'gender', 'Age': 'age', 'BMI Category': 'bmi_category'}\n",
    ")\n",
    "\n",
    "persons3['health_history'] = persons3['bmi_category'].apply(lambda x: 'yes' if x == 'Overweight' else 'no')\n",
    "persons3.drop(columns=['bmi_category'], inplace=True)\n",
    "\n",
    "# Ajouter 'height' et 'weight' comme None car ces informations ne sont pas présentes dans df3\n",
    "persons3['height'] = None\n",
    "persons3['weight'] = None\n",
    "\n",
    "# persons4 - df4\n",
    "persons4 = df4[['id_person', 'Gender', 'Age']].rename(columns={'Gender': 'gender', 'Age': 'age'})\n",
    "persons4['health_history'] = None\n",
    "persons4['height'] = None\n",
    "persons4['weight'] = None\n",
    "\n",
    "# Si Age est une fourchette, générer un âge aléatoire pour chaque ligne de `persons4`\n",
    "persons4['generated_age'] = persons4['age'].apply(generate_random_age)\n",
    "persons4['age'] = persons4['generated_age']  # Remplacer l'ancienne colonne 'age' par l'âge généré\n",
    "print(\"persons4 préparé avec âges générés.\")\n",
    "\n",
    "# Supprimer la colonne 'generated_age' pour ne pas la laisser dans le DataFrame final\n",
    "persons4.drop(columns=['generated_age'], inplace=True)\n",
    "print(\"persons4 préparé avec âges générés et colonne 'generated_age' supprimée.\")\n",
    "\n",
    "# Combinaison des données\n",
    "persons = pd.concat([persons1, persons2, persons3, persons4], ignore_index=True)\n",
    "print(\"Données combinées dans `persons`.\")\n",
    "\n",
    "# Associer l'ID de la catégorie d'âge à chaque individu\n",
    "persons['id_age_category'] = persons['age'].apply(get_age_category_id)\n",
    "\n",
    "# Afficher un aperçu de la table finale\n",
    "print(\"Table `Persons` avec `id_age_category` ajoutée :\")\n",
    "print(persons.head())"
   ]
  },
  {
   "cell_type": "code",
   "execution_count": 72,
   "metadata": {},
   "outputs": [
    {
     "name": "stdout",
     "output_type": "stream",
     "text": [
      "gender\n",
      "Male          1473\n",
      "Female        1433\n",
      "Non-Binary      81\n",
      "Other           75\n",
      "Name: count, dtype: int64\n"
     ]
    }
   ],
   "source": [
    "# Remplacer \"Prefer not to say\" par \"Other\" dans la colonne 'gender'\n",
    "persons['gender'] = persons['gender'].replace('Prefer not to say', 'Other')\n",
    "\n",
    "# Vérifier les changements\n",
    "print(persons['gender'].value_counts())\n"
   ]
  },
  {
   "cell_type": "code",
   "execution_count": 73,
   "metadata": {},
   "outputs": [
    {
     "name": "stdout",
     "output_type": "stream",
     "text": [
      "Aperçu de la table `persons` :\n",
      "   id_person  gender   age health_history  height  weight  id_age_category\n",
      "0          1  Female  21.0            yes    1.62    64.0                1\n",
      "1          2  Female  21.0            yes    1.52    56.0                1\n",
      "2          3    Male  23.0            yes    1.80    77.0                1\n",
      "3          4    Male  27.0             no    1.80    87.0                6\n",
      "4          5    Male  22.0             no    1.78    89.8                1\n"
     ]
    }
   ],
   "source": [
    "# Afficher un aperçu des données combinées\n",
    "print(\"Aperçu de la table `persons` :\")\n",
    "print(persons.head())"
   ]
  },
  {
   "cell_type": "code",
   "execution_count": 1,
   "metadata": {},
   "outputs": [],
   "source": [
    "from db_utils import get_db_engine\n",
    "\n",
    "# Obtenir le moteur de base de données\n",
    "engine = get_db_engine()"
   ]
  },
  {
   "cell_type": "code",
   "execution_count": null,
   "metadata": {},
   "outputs": [
    {
     "name": "stdout",
     "output_type": "stream",
     "text": [
      "Connexion à la base de données réussie !\n",
      "Les données ont été insérées avec succès dans la table 'Persons'.\n"
     ]
    },
    {
     "name": "stderr",
     "output_type": "stream",
     "text": [
      "C:\\Users\\user\\AppData\\Local\\Temp\\ipykernel_14100\\600092092.py:22: UserWarning: The provided table name 'Persons' is not found exactly as such in the database after writing the table, possibly due to case sensitivity issues. Consider using lower case table names.\n",
      "  persons_to_insert.to_sql('Persons', engine, if_exists='append', index=False)\n"
     ]
    }
   ],
   "source": [
    "# Sélectionner les données à insérer\n",
    "persons_to_insert = persons[['id_person', 'gender', 'age', 'health_history', 'height', 'weight', 'id_age_category']]\n",
    "\n",
    "# Insérer les données dans la table 'Persons'\n",
    "persons_to_insert.to_sql('Persons', engine, if_exists='append', index=False)\n",
    "\n",
    "# Confirmer que les données ont été insérées\n",
    "print(\"Les données ont été insérées avec succès dans la table 'Persons'.\")"
   ]
  }
 ],
 "metadata": {
  "kernelspec": {
   "display_name": "Python 3",
   "language": "python",
   "name": "python3"
  },
  "language_info": {
   "codemirror_mode": {
    "name": "ipython",
    "version": 3
   },
   "file_extension": ".py",
   "mimetype": "text/x-python",
   "name": "python",
   "nbconvert_exporter": "python",
   "pygments_lexer": "ipython3",
   "version": "3.11.3"
  }
 },
 "nbformat": 4,
 "nbformat_minor": 2
}
