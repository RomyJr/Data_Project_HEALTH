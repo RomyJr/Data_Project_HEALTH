{
 "cells": [
  {
   "cell_type": "code",
   "execution_count": 1,
   "metadata": {},
   "outputs": [],
   "source": [
    "import pandas as pd\n",
    "import random\n",
    "from sqlalchemy import create_engine"
   ]
  },
  {
   "cell_type": "code",
   "execution_count": 3,
   "metadata": {},
   "outputs": [
    {
     "name": "stdout",
     "output_type": "stream",
     "text": [
      "Données chargées avec succès ! Voici un aperçu :\n",
      "   Gender   Age  Height  Weight family_history_with_overweight FAVC  FCVC  \\\n",
      "0  Female  21.0    1.62    64.0                            yes   no   2.0   \n",
      "1  Female  21.0    1.52    56.0                            yes   no   3.0   \n",
      "2    Male  23.0    1.80    77.0                            yes   no   2.0   \n",
      "3    Male  27.0    1.80    87.0                             no   no   3.0   \n",
      "4    Male  22.0    1.78    89.8                             no   no   2.0   \n",
      "\n",
      "   NCP       CAEC SMOKE  CH2O  SCC  FAF  TUE        CALC  \\\n",
      "0  3.0  Sometimes    no   2.0   no  0.0  1.0          no   \n",
      "1  3.0  Sometimes   yes   3.0  yes  3.0  0.0   Sometimes   \n",
      "2  3.0  Sometimes    no   2.0   no  2.0  1.0  Frequently   \n",
      "3  3.0  Sometimes    no   2.0   no  2.0  0.0  Frequently   \n",
      "4  1.0  Sometimes    no   2.0   no  0.0  0.0   Sometimes   \n",
      "\n",
      "                  MTRANS           NObeyesdad  \n",
      "0  Public_Transportation        Normal_Weight  \n",
      "1  Public_Transportation        Normal_Weight  \n",
      "2  Public_Transportation        Normal_Weight  \n",
      "3                Walking   Overweight_Level_I  \n",
      "4  Public_Transportation  Overweight_Level_II  \n"
     ]
    }
   ],
   "source": [
    "import pandas as pd\n",
    "\n",
    "file_path = \"data\\\\ObesityDataSet_raw_and_data_sinthetic.csv\"\n",
    "\n",
    "data = pd.read_csv(file_path)\n",
    "\n",
    "print(\"Données chargées avec succès ! Voici un aperçu :\")\n",
    "print(data.head())"
   ]
  },
  {
   "cell_type": "code",
   "execution_count": 5,
   "metadata": {},
   "outputs": [
    {
     "name": "stdout",
     "output_type": "stream",
     "text": [
      "Les catégories de fumeurs extraites avec succès :\n",
      "   id_smoke smoker\n",
      "0         1     no\n",
      "1         2    yes\n"
     ]
    }
   ],
   "source": [
    "smoke = data['SMOKE'].dropna().unique()  # Suppression des valeurs nulles et récupération des valeurs uniques\n",
    "\n",
    "# Créer un DataFrame avec ces âges uniques et un ID\n",
    "smoker_categories = pd.DataFrame({\n",
    "    'id_smoke': range(1, len(smoke) + 1),  # ID unique pour chaque groupe d'âge\n",
    "    'smoker': smoke\n",
    "})\n",
    "\n",
    "print(\"Les catégories de fumeurs extraites avec succès :\")\n",
    "print(smoker_categories)\n"
   ]
  },
  {
   "cell_type": "code",
   "execution_count": 10,
   "metadata": {},
   "outputs": [
    {
     "name": "stdout",
     "output_type": "stream",
     "text": [
      "Les catégories de fumeurs extraites avec succès (converties en booléen) :\n",
      "   id_smoker  smoker\n",
      "0          1   False\n",
      "1          2    True\n"
     ]
    }
   ],
   "source": [
    "# Convertir \"yes\" en True et \"no\" en False\n",
    "smoke_boolean = [\"yes\" == val.lower() for val in smoke]\n",
    "\n",
    "# Créer un DataFrame avec ces valeurs uniques et un ID\n",
    "smoker_categories = pd.DataFrame({\n",
    "    'id_smoker': range(1, len(smoke) + 1),  # ID unique pour chaque groupe de fumeurs\n",
    "    'smoker': smoke_boolean\n",
    "})\n",
    "\n",
    "print(\"Les catégories de fumeurs extraites avec succès (converties en booléen) :\")\n",
    "print(smoker_categories)"
   ]
  },
  {
   "cell_type": "code",
   "execution_count": 1,
   "metadata": {},
   "outputs": [],
   "source": [
    "from db_utils import get_db_engine\n",
    "\n",
    "# Obtenir le moteur de base de données\n",
    "engine = get_db_engine()"
   ]
  },
  {
   "cell_type": "code",
   "execution_count": 12,
   "metadata": {},
   "outputs": [
    {
     "name": "stdout",
     "output_type": "stream",
     "text": [
      "Les données ont été insérées avec succès dans la table 'Is_Smoker'.\n"
     ]
    },
    {
     "name": "stderr",
     "output_type": "stream",
     "text": [
      "C:\\Users\\user\\AppData\\Local\\Temp\\ipykernel_21416\\3508289172.py:1: UserWarning: The provided table name 'Is_Smoker' is not found exactly as such in the database after writing the table, possibly due to case sensitivity issues. Consider using lower case table names.\n",
      "  smoker_categories.to_sql('Is_Smoker', engine, if_exists='append', index=False)\n"
     ]
    }
   ],
   "source": [
    "smoker_categories.to_sql('Is_Smoker', engine, if_exists='append', index=False)\n",
    "\n",
    "print(\"Les données ont été insérées avec succès dans la table 'Is_Smoker'.\")\n"
   ]
  }
 ],
 "metadata": {
  "kernelspec": {
   "display_name": "Python 3",
   "language": "python",
   "name": "python3"
  },
  "language_info": {
   "codemirror_mode": {
    "name": "ipython",
    "version": 3
   },
   "file_extension": ".py",
   "mimetype": "text/x-python",
   "name": "python",
   "nbconvert_exporter": "python",
   "pygments_lexer": "ipython3",
   "version": "3.11.3"
  }
 },
 "nbformat": 4,
 "nbformat_minor": 2
}
